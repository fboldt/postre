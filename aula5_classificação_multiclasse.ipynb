{
  "nbformat": 4,
  "nbformat_minor": 0,
  "metadata": {
    "colab": {
      "provenance": [],
      "authorship_tag": "ABX9TyPwABKIt9YOtpJG3dqX8JiW",
      "include_colab_link": true
    },
    "kernelspec": {
      "name": "python3",
      "display_name": "Python 3"
    },
    "language_info": {
      "name": "python"
    }
  },
  "cells": [
    {
      "cell_type": "markdown",
      "metadata": {
        "id": "view-in-github",
        "colab_type": "text"
      },
      "source": [
        "<a href=\"https://colab.research.google.com/github/fboldt/postre/blob/main/aula5_classifica%C3%A7%C3%A3o_multiclasse.ipynb\" target=\"_parent\"><img src=\"https://colab.research.google.com/assets/colab-badge.svg\" alt=\"Open In Colab\"/></a>"
      ]
    },
    {
      "cell_type": "code",
      "source": [
        "from sklearn.datasets import load_iris\n",
        "dataset = load_iris()\n",
        "X, y = dataset.data, dataset.target\n",
        "X.shape, y.shape, set(y)"
      ],
      "metadata": {
        "colab": {
          "base_uri": "https://localhost:8080/"
        },
        "id": "fu-IYgN2tM_k",
        "outputId": "cb649049-d09c-4b94-a786-cdce3ec283ed"
      },
      "execution_count": 1,
      "outputs": [
        {
          "output_type": "execute_result",
          "data": {
            "text/plain": [
              "((150, 4), (150,), {0, 1, 2})"
            ]
          },
          "metadata": {},
          "execution_count": 1
        }
      ]
    },
    {
      "cell_type": "code",
      "source": [
        "dataset.target_names"
      ],
      "metadata": {
        "colab": {
          "base_uri": "https://localhost:8080/"
        },
        "id": "qEpA_kl4t1RX",
        "outputId": "41051e5e-c3bd-42a1-b7fc-54d0e0cd5239"
      },
      "execution_count": 2,
      "outputs": [
        {
          "output_type": "execute_result",
          "data": {
            "text/plain": [
              "array(['setosa', 'versicolor', 'virginica'], dtype='<U10')"
            ]
          },
          "metadata": {},
          "execution_count": 2
        }
      ]
    },
    {
      "cell_type": "code",
      "source": [
        "!pip install ucimlrepo"
      ],
      "metadata": {
        "colab": {
          "base_uri": "https://localhost:8080/"
        },
        "id": "4iJXb4sYvD8W",
        "outputId": "365f3a57-a172-4bde-e562-b25f86e29455"
      },
      "execution_count": 3,
      "outputs": [
        {
          "output_type": "stream",
          "name": "stdout",
          "text": [
            "Requirement already satisfied: ucimlrepo in /usr/local/lib/python3.10/dist-packages (0.0.3)\n"
          ]
        }
      ]
    },
    {
      "cell_type": "code",
      "source": [
        "from ucimlrepo import fetch_ucirepo\n",
        "\n",
        "# fetch dataset\n",
        "iris = fetch_ucirepo(id=53)\n",
        "\n",
        "# data (as pandas dataframes)\n",
        "X = iris.data.features\n",
        "y = iris.data.targets\n",
        "\n",
        "# metadata\n",
        "print(iris.metadata)\n",
        "\n",
        "# variable information\n",
        "print(iris.variables)\n"
      ],
      "metadata": {
        "colab": {
          "base_uri": "https://localhost:8080/"
        },
        "id": "XQoIoyJdvLxC",
        "outputId": "a6982533-ec5b-4095-d9a9-fea0389b7d8e"
      },
      "execution_count": 4,
      "outputs": [
        {
          "output_type": "stream",
          "name": "stdout",
          "text": [
            "{'uci_id': 53, 'name': 'Iris', 'repository_url': 'https://archive.ics.uci.edu/dataset/53/iris', 'data_url': 'https://archive.ics.uci.edu/static/public/53/data.csv', 'abstract': 'A small classic dataset from Fisher, 1936. One of the earliest known datasets used for evaluating classification methods.\\n', 'area': 'Life Science', 'tasks': ['Classification'], 'characteristics': ['Tabular'], 'num_instances': 150, 'num_features': 4, 'feature_types': ['Real'], 'demographics': [], 'target_col': ['class'], 'index_col': None, 'has_missing_values': 'no', 'missing_values_symbol': None, 'year_of_dataset_creation': 1936, 'last_updated': 'Tue Sep 12 2023', 'dataset_doi': '10.24432/C56C76', 'creators': ['R. A. Fisher'], 'intro_paper': {'title': 'The Iris data set: In search of the source of virginica', 'authors': 'A. Unwin, K. Kleinman', 'published_in': 'Significance, 2021', 'year': 2021, 'url': 'https://www.semanticscholar.org/paper/4599862ea877863669a6a8e63a3c707a787d5d7e', 'doi': '1740-9713.01589'}, 'additional_info': {'summary': 'This is one of the earliest datasets used in the literature on classification methods and widely used in statistics and machine learning.  The data set contains 3 classes of 50 instances each, where each class refers to a type of iris plant.  One class is linearly separable from the other 2; the latter are not linearly separable from each other.\\n\\nPredicted attribute: class of iris plant.\\n\\nThis is an exceedingly simple domain.\\n\\nThis data differs from the data presented in Fishers article (identified by Steve Chadwick,  spchadwick@espeedaz.net ).  The 35th sample should be: 4.9,3.1,1.5,0.2,\"Iris-setosa\" where the error is in the fourth feature. The 38th sample: 4.9,3.6,1.4,0.1,\"Iris-setosa\" where the errors are in the second and third features.  ', 'purpose': 'N/A', 'funded_by': None, 'instances_represent': 'Each instance is a plant', 'recommended_data_splits': None, 'sensitive_data': None, 'preprocessing_description': None, 'variable_info': None, 'citation': None}}\n",
            "           name     role         type demographic  \\\n",
            "0  sepal length  Feature   Continuous        None   \n",
            "1   sepal width  Feature   Continuous        None   \n",
            "2  petal length  Feature   Continuous        None   \n",
            "3   petal width  Feature   Continuous        None   \n",
            "4         class   Target  Categorical        None   \n",
            "\n",
            "                                         description units missing_values  \n",
            "0                                               None    cm             no  \n",
            "1                                               None    cm             no  \n",
            "2                                               None    cm             no  \n",
            "3                                               None    cm             no  \n",
            "4  class of iris plant: Iris Setosa, Iris Versico...  None             no  \n"
          ]
        }
      ]
    },
    {
      "cell_type": "code",
      "source": [
        "from sklearn.model_selection import train_test_split\n",
        "Xtr, Xte, ytr, yte = train_test_split(X.to_numpy()[:,2:4], y.to_numpy(), random_state=42)\n",
        "ytr = ytr.reshape(-1,)\n",
        "yte = yte.reshape(-1,)\n",
        "Xtr.shape, Xte.shape, ytr.shape, yte.shape,"
      ],
      "metadata": {
        "colab": {
          "base_uri": "https://localhost:8080/"
        },
        "id": "F7OsbPaZwfb-",
        "outputId": "1e871d14-ab61-4500-d7ef-5145a1344856"
      },
      "execution_count": 5,
      "outputs": [
        {
          "output_type": "execute_result",
          "data": {
            "text/plain": [
              "((112, 2), (38, 2), (112,), (38,))"
            ]
          },
          "metadata": {},
          "execution_count": 5
        }
      ]
    },
    {
      "cell_type": "code",
      "source": [
        "import matplotlib.pyplot as plt\n",
        "\n",
        "plt.xlabel(\"petal length\")\n",
        "plt.ylabel(\"petal width\")\n",
        "for k in set(ytr):\n",
        "  plt.plot(Xtr[:,0][ytr==k], Xtr[:,1][ytr==k], \"o\", alpha=0.5)\n",
        "plt.legend(set(ytr))\n",
        "plt.show()"
      ],
      "metadata": {
        "colab": {
          "base_uri": "https://localhost:8080/",
          "height": 449
        },
        "id": "Zdsc7QUrvYzK",
        "outputId": "c08ab0b8-123f-4024-86ef-a26779381d9e"
      },
      "execution_count": 6,
      "outputs": [
        {
          "output_type": "display_data",
          "data": {
            "text/plain": [
              "<Figure size 640x480 with 1 Axes>"
            ],
            "image/png": "[encoded data removed]"
          },
          "metadata": {}
        }
      ]
    },
    {
      "cell_type": "code",
      "source": [
        "import numpy as np\n",
        "from sklearn.base import BaseEstimator, ClassifierMixin\n",
        "\n",
        "def addBias(X):\n",
        "  bias = np.ones((X.shape[0], 1))\n",
        "  X_b = np.concatenate((bias, X), axis=1)\n",
        "  return X_b\n",
        "\n",
        "class ClassificadorLinear(BaseEstimator, ClassifierMixin):\n",
        "  def __init__(self, taxa_aprendizado=0.0001, max_iter=10000):\n",
        "    self.taxa_aprendizado = taxa_aprendizado\n",
        "    self.max_iter = max_iter\n",
        "\n",
        "  def fit(self, X, y):\n",
        "    X_b = addBias(X)\n",
        "    self.labels_ = sorted(list(set(y)))\n",
        "    self.w = np.random.uniform(size=(X_b.shape[1], len(self.labels_)))\n",
        "    yhot = np.zeros((len(y), len(self.labels_)))\n",
        "    for i in range(len(self.labels_)):\n",
        "      yhot[:,i] = y==self.labels_[i]\n",
        "    for _ in range(self.max_iter):\n",
        "      ypred = X_b @ self.w\n",
        "      erros = ypred - yhot\n",
        "      ajuste = X_b.T @ erros\n",
        "      self.w = self.w - self.taxa_aprendizado * ajuste\n",
        "\n",
        "  def predict(self, X, y=None):\n",
        "    X_b = addBias(X)\n",
        "    yhot = X_b @ self.w\n",
        "    yidx = np.argmax(yhot, axis=1)\n",
        "    ypred = np.array([self.labels_[i] for i in yidx])\n",
        "    return ypred\n",
        "\n",
        "modelo = ClassificadorLinear()\n",
        "modelo.fit(Xtr, ytr)\n",
        "ypred = modelo.predict(Xte)\n",
        "sum(ypred==yte)/len(yte)"
      ],
      "metadata": {
        "colab": {
          "base_uri": "https://localhost:8080/"
        },
        "id": "hjEt_QJc1wLj",
        "outputId": "da2c89a5-534a-42ab-9f48-b46924bf4ac3"
      },
      "execution_count": 7,
      "outputs": [
        {
          "output_type": "execute_result",
          "data": {
            "text/plain": [
              "0.8421052631578947"
            ]
          },
          "metadata": {},
          "execution_count": 7
        }
      ]
    },
    {
      "cell_type": "code",
      "source": [
        "np.array([yte==ypred, yte, ypred]).T"
      ],
      "metadata": {
        "colab": {
          "base_uri": "https://localhost:8080/"
        },
        "id": "e801WIRD7Typ",
        "outputId": "0377eb26-95f6-4589-bbe5-737d4a9b31f8"
      },
      "execution_count": 8,
      "outputs": [
        {
          "output_type": "execute_result",
          "data": {
            "text/plain": [
              "array([[True, 'Iris-versicolor', 'Iris-versicolor'],\n",
              "       [True, 'Iris-setosa', 'Iris-setosa'],\n",
              "       [True, 'Iris-virginica', 'Iris-virginica'],\n",
              "       [False, 'Iris-versicolor', 'Iris-virginica'],\n",
              "       [True, 'Iris-versicolor', 'Iris-versicolor'],\n",
              "       [True, 'Iris-setosa', 'Iris-setosa'],\n",
              "       [False, 'Iris-versicolor', 'Iris-virginica'],\n",
              "       [True, 'Iris-virginica', 'Iris-virginica'],\n",
              "       [False, 'Iris-versicolor', 'Iris-virginica'],\n",
              "       [True, 'Iris-versicolor', 'Iris-versicolor'],\n",
              "       [True, 'Iris-virginica', 'Iris-virginica'],\n",
              "       [True, 'Iris-setosa', 'Iris-setosa'],\n",
              "       [True, 'Iris-setosa', 'Iris-setosa'],\n",
              "       [True, 'Iris-setosa', 'Iris-setosa'],\n",
              "       [True, 'Iris-setosa', 'Iris-setosa'],\n",
              "       [False, 'Iris-versicolor', 'Iris-virginica'],\n",
              "       [True, 'Iris-virginica', 'Iris-virginica'],\n",
              "       [True, 'Iris-versicolor', 'Iris-versicolor'],\n",
              "       [True, 'Iris-versicolor', 'Iris-versicolor'],\n",
              "       [True, 'Iris-virginica', 'Iris-virginica'],\n",
              "       [True, 'Iris-setosa', 'Iris-setosa'],\n",
              "       [True, 'Iris-virginica', 'Iris-virginica'],\n",
              "       [True, 'Iris-setosa', 'Iris-setosa'],\n",
              "       [True, 'Iris-virginica', 'Iris-virginica'],\n",
              "       [True, 'Iris-virginica', 'Iris-virginica'],\n",
              "       [True, 'Iris-virginica', 'Iris-virginica'],\n",
              "       [True, 'Iris-virginica', 'Iris-virginica'],\n",
              "       [True, 'Iris-virginica', 'Iris-virginica'],\n",
              "       [True, 'Iris-setosa', 'Iris-setosa'],\n",
              "       [True, 'Iris-setosa', 'Iris-setosa'],\n",
              "       [True, 'Iris-setosa', 'Iris-setosa'],\n",
              "       [True, 'Iris-setosa', 'Iris-setosa'],\n",
              "       [False, 'Iris-versicolor', 'Iris-virginica'],\n",
              "       [True, 'Iris-setosa', 'Iris-setosa'],\n",
              "       [True, 'Iris-setosa', 'Iris-setosa'],\n",
              "       [True, 'Iris-virginica', 'Iris-virginica'],\n",
              "       [False, 'Iris-versicolor', 'Iris-virginica'],\n",
              "       [True, 'Iris-setosa', 'Iris-setosa']], dtype=object)"
            ]
          },
          "metadata": {},
          "execution_count": 8
        }
      ]
    },
    {
      "cell_type": "code",
      "source": [
        "modelo.w"
      ],
      "metadata": {
        "colab": {
          "base_uri": "https://localhost:8080/"
        },
        "id": "7Ai0qyl77zeK",
        "outputId": "d0e3bcba-5f60-404e-f349-b1187c01aed1"
      },
      "execution_count": 9,
      "outputs": [
        {
          "output_type": "execute_result",
          "data": {
            "text/plain": [
              "array([[ 1.25491722, -0.04589845, -0.20159621],\n",
              "       [-0.25264392,  0.28453431, -0.0387716 ],\n",
              "       [ 0.01620716, -0.56793869,  0.56740665]])"
            ]
          },
          "metadata": {},
          "execution_count": 9
        }
      ]
    },
    {
      "cell_type": "code",
      "source": [
        "intercept = modelo.w[0]\n",
        "intercept"
      ],
      "metadata": {
        "colab": {
          "base_uri": "https://localhost:8080/"
        },
        "id": "DOQIt3-l8E6k",
        "outputId": "d51693dd-f109-451e-b5b1-a6721535b4b2"
      },
      "execution_count": 10,
      "outputs": [
        {
          "output_type": "execute_result",
          "data": {
            "text/plain": [
              "array([ 1.25491722, -0.04589845, -0.20159621])"
            ]
          },
          "metadata": {},
          "execution_count": 10
        }
      ]
    },
    {
      "cell_type": "code",
      "source": [
        "coef = modelo.w[1:]\n",
        "coef"
      ],
      "metadata": {
        "colab": {
          "base_uri": "https://localhost:8080/"
        },
        "id": "U02FXf7D8UL5",
        "outputId": "3239681e-c4ee-4954-b402-f9319ccc08b6"
      },
      "execution_count": 11,
      "outputs": [
        {
          "output_type": "execute_result",
          "data": {
            "text/plain": [
              "array([[-0.25264392,  0.28453431, -0.0387716 ],\n",
              "       [ 0.01620716, -0.56793869,  0.56740665]])"
            ]
          },
          "metadata": {},
          "execution_count": 11
        }
      ]
    },
    {
      "cell_type": "code",
      "source": [
        "def plot_hyperplane(X, coef, intercept, column=0, color='black'):\n",
        "  def line(x0):\n",
        "    return (-(x0 * coef[0, column]) - intercept[column]) / coef[1, column]\n",
        "  xmin = min(X[:,0])\n",
        "  xmax = max(X[:,0])\n",
        "  plt.plot([xmin, xmax], [line(xmin), line(xmax)], ls=\"-\", color=color)"
      ],
      "metadata": {
        "id": "JxtAbvn68a03"
      },
      "execution_count": 12,
      "outputs": []
    },
    {
      "cell_type": "code",
      "source": [
        "plt.xlabel(\"petal length\")\n",
        "plt.ylabel(\"petal width\")\n",
        "colors = ['green', 'blue', 'red']\n",
        "for i,k in enumerate(set(ytr)):\n",
        "  plt.plot(Xtr[:,0][ytr==k], Xtr[:,1][ytr==k], \"o\", alpha=0.5, color=colors[i])\n",
        "  plot_hyperplane(Xtr, modelo.w[1:], modelo.w[0], i, colors[i])\n",
        "plt.legend(set(ytr))\n",
        "plt.show()"
      ],
      "metadata": {
        "colab": {
          "base_uri": "https://localhost:8080/",
          "height": 449
        },
        "id": "aXjv36ny97uH",
        "outputId": "0ad0b919-7f7e-4e10-96b4-424e478ff69d"
      },
      "execution_count": 13,
      "outputs": [
        {
          "output_type": "display_data",
          "data": {
            "text/plain": [
              "<Figure size 640x480 with 1 Axes>"
            ],
            "image/png": "[encoded data removed]"
          },
          "metadata": {}
        }
      ]
    },
    {
      "cell_type": "code",
      "source": [
        "from sklearn.model_selection import cross_validate\n",
        "\n",
        "scores = cross_validate(ClassificadorLinear(), X.to_numpy(), y.to_numpy().reshape(-1,))\n",
        "np.mean(scores['test_score'])"
      ],
      "metadata": {
        "colab": {
          "base_uri": "https://localhost:8080/"
        },
        "id": "62hGW-jg_4Yh",
        "outputId": "e57dc144-8030-47b1-cd9c-42dd65eb1975"
      },
      "execution_count": 14,
      "outputs": [
        {
          "output_type": "execute_result",
          "data": {
            "text/plain": [
              "0.8333333333333334"
            ]
          },
          "metadata": {},
          "execution_count": 14
        }
      ]
    },
    {
      "cell_type": "code",
      "source": [
        "from sklearn.model_selection import GridSearchCV\n",
        "\n",
        "params = {\n",
        "    'taxa_aprendizado': [0.0001, 0.00001],\n",
        "    'max_iter': [10000, 20000]\n",
        "}\n",
        "\n",
        "modelo = GridSearchCV(ClassificadorLinear(), params)\n",
        "scores = cross_validate(modelo, X.to_numpy(), y.to_numpy().reshape(-1,))\n",
        "np.mean(scores['test_score'])"
      ],
      "metadata": {
        "colab": {
          "base_uri": "https://localhost:8080/"
        },
        "id": "3O9EybWBAbN4",
        "outputId": "9a563c7a-b44a-4b79-a014-80505825cb23"
      },
      "execution_count": 16,
      "outputs": [
        {
          "output_type": "execute_result",
          "data": {
            "text/plain": [
              "0.7933333333333333"
            ]
          },
          "metadata": {},
          "execution_count": 16
        }
      ]
    },
    {
      "cell_type": "code",
      "source": [
        "from sklearn.preprocessing import StandardScaler\n",
        "from sklearn.pipeline import Pipeline\n",
        "\n",
        "pipeline = Pipeline([\n",
        "    ('scaler', StandardScaler()),\n",
        "    ('clf', ClassificadorLinear())\n",
        "])\n",
        "\n",
        "params = {\n",
        "    'clf__taxa_aprendizado': [0.001, 0.0001, 0.00001],\n",
        "    'clf__max_iter': [10000, 20000]\n",
        "}\n",
        "\n",
        "modelo = GridSearchCV(pipeline, params)\n",
        "scores = cross_validate(modelo, X.to_numpy(), y.to_numpy().reshape(-1,))\n",
        "np.mean(scores['test_score'])"
      ],
      "metadata": {
        "colab": {
          "base_uri": "https://localhost:8080/"
        },
        "id": "itbrFGA5CUQy",
        "outputId": "738a90e9-a509-422f-88e7-be94ea50ae67"
      },
      "execution_count": 41,
      "outputs": [
        {
          "output_type": "execute_result",
          "data": {
            "text/plain": [
              "0.8066666666666666"
            ]
          },
          "metadata": {},
          "execution_count": 41
        }
      ]
    },
    {
      "cell_type": "code",
      "source": [
        "from sklearn.linear_model import SGDClassifier\n",
        "\n",
        "pipeline = Pipeline([\n",
        "    ('scaler', StandardScaler()),\n",
        "    ('clf', SGDClassifier())\n",
        "])\n",
        "\n",
        "scores = cross_validate(pipeline, X.to_numpy(), y.to_numpy().reshape(-1,))\n",
        "np.mean(scores['test_score'])"
      ],
      "metadata": {
        "colab": {
          "base_uri": "https://localhost:8080/"
        },
        "id": "Ls75juEREHwG",
        "outputId": "51a6658c-e57d-4776-d7d6-7dd66dcf158d"
      },
      "execution_count": 44,
      "outputs": [
        {
          "output_type": "execute_result",
          "data": {
            "text/plain": [
              "0.9333333333333333"
            ]
          },
          "metadata": {},
          "execution_count": 44
        }
      ]
    },
    {
      "cell_type": "code",
      "source": [
        "params = {\n",
        "    'clf__penalty': ['l2', 'l1', 'elasticnet'],\n",
        "}\n",
        "\n",
        "modelo = GridSearchCV(pipeline, params)\n",
        "scores = cross_validate(modelo, X.to_numpy(), y.to_numpy().reshape(-1,))\n",
        "np.mean(scores['test_score'])"
      ],
      "metadata": {
        "colab": {
          "base_uri": "https://localhost:8080/"
        },
        "id": "8j-xc8pyEdal",
        "outputId": "b9c7a043-034a-47a1-c3d6-7caab4d72da9"
      },
      "execution_count": 45,
      "outputs": [
        {
          "output_type": "execute_result",
          "data": {
            "text/plain": [
              "0.9199999999999999"
            ]
          },
          "metadata": {},
          "execution_count": 45
        }
      ]
    },
    {
      "cell_type": "code",
      "source": [
        "modelo.fit(Xtr, ytr)\n",
        "ypred = modelo.predict(Xte)\n",
        "sum(ypred==yte)/len(yte)"
      ],
      "metadata": {
        "colab": {
          "base_uri": "https://localhost:8080/"
        },
        "id": "ljesU-OPIxsu",
        "outputId": "2ca6b5bb-5ea3-41de-bc53-5707a9971540"
      },
      "execution_count": 46,
      "outputs": [
        {
          "output_type": "execute_result",
          "data": {
            "text/plain": [
              "1.0"
            ]
          },
          "metadata": {},
          "execution_count": 46
        }
      ]
    },
    {
      "cell_type": "code",
      "source": [
        "modelo.best_estimator_.named_steps['clf']"
      ],
      "metadata": {
        "colab": {
          "base_uri": "https://localhost:8080/",
          "height": 74
        },
        "id": "45xaaBQPJXnp",
        "outputId": "467a6f74-1979-4b13-949d-14e189f4be69"
      },
      "execution_count": 58,
      "outputs": [
        {
          "output_type": "execute_result",
          "data": {
            "text/plain": [
              "SGDClassifier(penalty='l1')"
            ],
            "text/html": [
              "<style>#sk-container-id-3 {color: black;background-color: white;}#sk-container-id-3 pre{padding: 0;}#sk-container-id-3 div.sk-toggleable {background-color: white;}#sk-container-id-3 label.sk-toggleable__label {cursor: pointer;display: block;width: 100%;margin-bottom: 0;padding: 0.3em;box-sizing: border-box;text-align: center;}#sk-container-id-3 label.sk-toggleable__label-arrow:before {content: \"▸\";float: left;margin-right: 0.25em;color: #696969;}#sk-container-id-3 label.sk-toggleable__label-arrow:hover:before {color: black;}#sk-container-id-3 div.sk-estimator:hover label.sk-toggleable__label-arrow:before {color: black;}#sk-container-id-3 div.sk-toggleable__content {max-height: 0;max-width: 0;overflow: hidden;text-align: left;background-color: #f0f8ff;}#sk-container-id-3 div.sk-toggleable__content pre {margin: 0.2em;color: black;border-radius: 0.25em;background-color: #f0f8ff;}#sk-container-id-3 input.sk-toggleable__control:checked~div.sk-toggleable__content {max-height: 200px;max-width: 100%;overflow: auto;}#sk-container-id-3 input.sk-toggleable__control:checked~label.sk-toggleable__label-arrow:before {content: \"▾\";}#sk-container-id-3 div.sk-estimator input.sk-toggleable__control:checked~label.sk-toggleable__label {background-color: #d4ebff;}#sk-container-id-3 div.sk-label input.sk-toggleable__control:checked~label.sk-toggleable__label {background-color: #d4ebff;}#sk-container-id-3 input.sk-hidden--visually {border: 0;clip: rect(1px 1px 1px 1px);clip: rect(1px, 1px, 1px, 1px);height: 1px;margin: -1px;overflow: hidden;padding: 0;position: absolute;width: 1px;}#sk-container-id-3 div.sk-estimator {font-family: monospace;background-color: #f0f8ff;border: 1px dotted black;border-radius: 0.25em;box-sizing: border-box;margin-bottom: 0.5em;}#sk-container-id-3 div.sk-estimator:hover {background-color: #d4ebff;}#sk-container-id-3 div.sk-parallel-item::after {content: \"\";width: 100%;border-bottom: 1px solid gray;flex-grow: 1;}#sk-container-id-3 div.sk-label:hover label.sk-toggleable__label {background-color: #d4ebff;}#sk-container-id-3 div.sk-serial::before {content: \"\";position: absolute;border-left: 1px solid gray;box-sizing: border-box;top: 0;bottom: 0;left: 50%;z-index: 0;}#sk-container-id-3 div.sk-serial {display: flex;flex-direction: column;align-items: center;background-color: white;padding-right: 0.2em;padding-left: 0.2em;position: relative;}#sk-container-id-3 div.sk-item {position: relative;z-index: 1;}#sk-container-id-3 div.sk-parallel {display: flex;align-items: stretch;justify-content: center;background-color: white;position: relative;}#sk-container-id-3 div.sk-item::before, #sk-container-id-3 div.sk-parallel-item::before {content: \"\";position: absolute;border-left: 1px solid gray;box-sizing: border-box;top: 0;bottom: 0;left: 50%;z-index: -1;}#sk-container-id-3 div.sk-parallel-item {display: flex;flex-direction: column;z-index: 1;position: relative;background-color: white;}#sk-container-id-3 div.sk-parallel-item:first-child::after {align-self: flex-end;width: 50%;}#sk-container-id-3 div.sk-parallel-item:last-child::after {align-self: flex-start;width: 50%;}#sk-container-id-3 div.sk-parallel-item:only-child::after {width: 0;}#sk-container-id-3 div.sk-dashed-wrapped {border: 1px dashed gray;margin: 0 0.4em 0.5em 0.4em;box-sizing: border-box;padding-bottom: 0.4em;background-color: white;}#sk-container-id-3 div.sk-label label {font-family: monospace;font-weight: bold;display: inline-block;line-height: 1.2em;}#sk-container-id-3 div.sk-label-container {text-align: center;}#sk-container-id-3 div.sk-container {/* jupyter's `normalize.less` sets `[hidden] { display: none; }` but bootstrap.min.css set `[hidden] { display: none !important; }` so we also need the `!important` here to be able to override the default hidden behavior on the sphinx rendered scikit-learn.org. See: https://github.com/scikit-learn/scikit-learn/issues/21755 */display: inline-block !important;position: relative;}#sk-container-id-3 div.sk-text-repr-fallback {display: none;}</style><div id=\"sk-container-id-3\" class=\"sk-top-container\"><div class=\"sk-text-repr-fallback\"><pre>SGDClassifier(penalty=&#x27;l1&#x27;)</pre><b>In a Jupyter environment, please rerun this cell to show the HTML representation or trust the notebook. <br />On GitHub, the HTML representation is unable to render, please try loading this page with nbviewer.org.</b></div><div class=\"sk-container\" hidden><div class=\"sk-item\"><div class=\"sk-estimator sk-toggleable\"><input class=\"sk-toggleable__control sk-hidden--visually\" id=\"sk-estimator-id-7\" type=\"checkbox\" checked><label for=\"sk-estimator-id-7\" class=\"sk-toggleable__label sk-toggleable__label-arrow\">SGDClassifier</label><div class=\"sk-toggleable__content\"><pre>SGDClassifier(penalty=&#x27;l1&#x27;)</pre></div></div></div></div></div>"
            ]
          },
          "metadata": {},
          "execution_count": 58
        }
      ]
    },
    {
      "cell_type": "code",
      "source": [
        "plt.xlabel(\"petal length\")\n",
        "plt.ylabel(\"petal width\")\n",
        "colors = ['green', 'blue', 'red']\n",
        "for i,k in enumerate(set(yte)):\n",
        "  plt.plot(Xte[:,0][yte==k], Xte[:,1][yte==k], \"o\", alpha=0.5, color=colors[i])\n",
        "  plot_hyperplane(Xte, modelo.best_estimator_.named_steps['clf'].coef_.T,\n",
        "                  modelo.best_estimator_.named_steps['clf'].intercept_, i, colors[i])\n",
        "plt.legend(set(yte))\n",
        "plt.show()"
      ],
      "metadata": {
        "colab": {
          "base_uri": "https://localhost:8080/",
          "height": 449
        },
        "id": "4czHamnhJHaN",
        "outputId": "476792f4-ad44-47db-ef85-6192ed2ac1fd"
      },
      "execution_count": 57,
      "outputs": [
        {
          "output_type": "display_data",
          "data": {
            "text/plain": [
              "<Figure size 640x480 with 1 Axes>"
            ],
            "image/png": "[encoded data removed]"
          },
          "metadata": {}
        }
      ]
    },
    {
      "cell_type": "code",
      "source": [
        "from sklearn.ensemble import RandomForestClassifier\n",
        "\n",
        "modelo = RandomForestClassifier()\n",
        "scores = cross_validate(modelo, X.to_numpy(), y.to_numpy().reshape(-1,))\n",
        "np.mean(scores['test_score'])"
      ],
      "metadata": {
        "colab": {
          "base_uri": "https://localhost:8080/"
        },
        "id": "zuW7M5z0FMyN",
        "outputId": "d86a6289-fff1-439d-8b9b-e5be9fa50b5f"
      },
      "execution_count": 30,
      "outputs": [
        {
          "output_type": "execute_result",
          "data": {
            "text/plain": [
              "0.9533333333333334"
            ]
          },
          "metadata": {},
          "execution_count": 30
        }
      ]
    },
    {
      "cell_type": "code",
      "source": [
        "from sklearn.neural_network import MLPClassifier\n",
        "import warnings\n",
        "warnings.filterwarnings(\"ignore\")\n",
        "\n",
        "modelo = MLPClassifier()\n",
        "scores = cross_validate(modelo, X.to_numpy(), y.to_numpy().reshape(-1,))\n",
        "np.mean(scores['test_score'])"
      ],
      "metadata": {
        "colab": {
          "base_uri": "https://localhost:8080/"
        },
        "id": "puDrmxxYFfl3",
        "outputId": "8ca534c7-380b-4439-9634-913dba13520a"
      },
      "execution_count": 33,
      "outputs": [
        {
          "output_type": "execute_result",
          "data": {
            "text/plain": [
              "0.9866666666666667"
            ]
          },
          "metadata": {},
          "execution_count": 33
        }
      ]
    }
  ]
}