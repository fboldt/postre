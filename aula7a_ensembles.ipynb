{
  "nbformat": 4,
  "nbformat_minor": 0,
  "metadata": {
    "colab": {
      "provenance": [],
      "authorship_tag": "ABX9TyPF4UvZmDklem4QUt4+sQRz",
      "include_colab_link": true
    },
    "kernelspec": {
      "name": "python3",
      "display_name": "Python 3"
    },
    "language_info": {
      "name": "python"
    }
  },
  "cells": [
    {
      "cell_type": "markdown",
      "metadata": {
        "id": "view-in-github",
        "colab_type": "text"
      },
      "source": [
        "<a href=\"https://colab.research.google.com/github/fboldt/postre/blob/main/aula7a_ensembles.ipynb\" target=\"_parent\"><img src=\"https://colab.research.google.com/assets/colab-badge.svg\" alt=\"Open In Colab\"/></a>"
      ]
    },
    {
      "cell_type": "code",
      "execution_count": 1,
      "metadata": {
        "colab": {
          "base_uri": "https://localhost:8080/"
        },
        "id": "PTeyzUVer7a-",
        "outputId": "a25bdd00-966b-4179-e67f-bfeef0ee2ffb"
      },
      "outputs": [
        {
          "output_type": "execute_result",
          "data": {
            "text/plain": [
              "((400, 4096), (400,))"
            ]
          },
          "metadata": {},
          "execution_count": 1
        }
      ],
      "source": [
        "from sklearn.datasets import fetch_olivetti_faces\n",
        "X, y = fetch_olivetti_faces(return_X_y=True)\n",
        "X.shape, y.shape"
      ]
    },
    {
      "cell_type": "code",
      "source": [
        "from sklearn.model_selection import train_test_split\n",
        "Xtr, Xte, ytr, yte = train_test_split(X, y, random_state=42)\n",
        "Xtr.shape, Xte.shape, ytr.shape, yte.shape"
      ],
      "metadata": {
        "colab": {
          "base_uri": "https://localhost:8080/"
        },
        "id": "wQJ6rrIC0-2C",
        "outputId": "bd664367-5665-436d-8f98-76b7e539d4b8"
      },
      "execution_count": 2,
      "outputs": [
        {
          "output_type": "execute_result",
          "data": {
            "text/plain": [
              "((300, 4096), (100, 4096), (300,), (100,))"
            ]
          },
          "metadata": {},
          "execution_count": 2
        }
      ]
    },
    {
      "cell_type": "code",
      "source": [
        "from sklearn.neighbors import KNeighborsClassifier\n",
        "modelo = KNeighborsClassifier()\n",
        "modelo.fit(Xtr, ytr)\n",
        "knn_pred = modelo.predict(Xte)\n",
        "knn_hits = knn_pred == yte\n",
        "knn_hits, sum(knn_hits)/len(knn_hits)"
      ],
      "metadata": {
        "colab": {
          "base_uri": "https://localhost:8080/"
        },
        "id": "wpcA0Xu212IS",
        "outputId": "0e2ee11a-87de-4552-b235-142bf92ccb8b"
      },
      "execution_count": 3,
      "outputs": [
        {
          "output_type": "execute_result",
          "data": {
            "text/plain": [
              "(array([ True,  True,  True,  True,  True,  True,  True,  True,  True,\n",
              "         True,  True,  True,  True,  True,  True,  True, False,  True,\n",
              "         True,  True,  True,  True, False, False,  True, False,  True,\n",
              "         True,  True,  True, False, False,  True,  True, False,  True,\n",
              "        False, False,  True,  True,  True,  True,  True,  True,  True,\n",
              "        False,  True,  True,  True,  True,  True,  True,  True,  True,\n",
              "         True,  True,  True,  True,  True, False,  True,  True,  True,\n",
              "        False,  True, False,  True,  True, False,  True,  True,  True,\n",
              "        False,  True,  True,  True,  True,  True,  True,  True, False,\n",
              "         True,  True,  True,  True,  True,  True,  True,  True,  True,\n",
              "         True,  True,  True,  True,  True,  True,  True,  True,  True,\n",
              "        False]),\n",
              " 0.83)"
            ]
          },
          "metadata": {},
          "execution_count": 3
        }
      ]
    },
    {
      "cell_type": "code",
      "source": [
        "from sklearn.naive_bayes import GaussianNB\n",
        "modelo = GaussianNB()\n",
        "modelo.fit(Xtr, ytr)\n",
        "gnb_pred = modelo.predict(Xte)\n",
        "gnb_hits = gnb_pred == yte\n",
        "gnb_hits, sum(gnb_hits)/len(gnb_hits)"
      ],
      "metadata": {
        "colab": {
          "base_uri": "https://localhost:8080/"
        },
        "id": "FE4qzspN2fsU",
        "outputId": "13c8df61-6372-4717-b1a7-43a16b81f642"
      },
      "execution_count": 4,
      "outputs": [
        {
          "output_type": "execute_result",
          "data": {
            "text/plain": [
              "(array([ True,  True,  True,  True,  True,  True,  True,  True,  True,\n",
              "        False,  True,  True,  True, False,  True, False,  True,  True,\n",
              "         True,  True, False,  True,  True,  True,  True,  True,  True,\n",
              "         True,  True, False,  True,  True,  True,  True,  True,  True,\n",
              "        False,  True,  True,  True,  True,  True, False,  True,  True,\n",
              "         True,  True,  True,  True, False,  True,  True,  True, False,\n",
              "         True,  True,  True,  True,  True,  True,  True,  True, False,\n",
              "        False,  True,  True,  True, False,  True, False,  True,  True,\n",
              "        False,  True,  True,  True,  True,  True, False,  True, False,\n",
              "         True,  True,  True,  True,  True,  True,  True, False,  True,\n",
              "         True,  True,  True,  True, False,  True,  True,  True,  True,\n",
              "        False]),\n",
              " 0.81)"
            ]
          },
          "metadata": {},
          "execution_count": 4
        }
      ]
    },
    {
      "cell_type": "code",
      "source": [
        "from sklearn.linear_model import Perceptron\n",
        "modelo = Perceptron()\n",
        "modelo.fit(Xtr, ytr)\n",
        "per_pred = modelo.predict(Xte)\n",
        "per_hits = per_pred == yte\n",
        "per_hits, sum(per_hits)/len(per_hits)"
      ],
      "metadata": {
        "colab": {
          "base_uri": "https://localhost:8080/"
        },
        "id": "9lq-ez-h3kR5",
        "outputId": "38ada1c2-6d11-4968-abb0-3d3f896e7f4d"
      },
      "execution_count": 5,
      "outputs": [
        {
          "output_type": "execute_result",
          "data": {
            "text/plain": [
              "(array([ True,  True,  True,  True,  True,  True,  True,  True,  True,\n",
              "        False,  True,  True, False,  True,  True, False, False,  True,\n",
              "         True,  True,  True,  True,  True, False,  True,  True,  True,\n",
              "         True,  True,  True,  True,  True,  True, False,  True,  True,\n",
              "         True,  True,  True,  True,  True, False,  True, False,  True,\n",
              "        False,  True,  True,  True,  True, False,  True,  True,  True,\n",
              "         True, False,  True,  True,  True,  True, False,  True,  True,\n",
              "        False,  True,  True,  True, False,  True,  True,  True,  True,\n",
              "        False, False,  True,  True,  True,  True, False,  True, False,\n",
              "         True, False,  True,  True,  True,  True,  True,  True,  True,\n",
              "         True,  True,  True, False,  True,  True, False,  True,  True,\n",
              "        False]),\n",
              " 0.78)"
            ]
          },
          "metadata": {},
          "execution_count": 5
        }
      ]
    },
    {
      "cell_type": "code",
      "source": [
        "import numpy as np\n",
        "hits = np.stack((knn_hits, gnb_hits, per_hits))\n",
        "hits.T"
      ],
      "metadata": {
        "colab": {
          "base_uri": "https://localhost:8080/"
        },
        "id": "ZAmGGbTy4qIT",
        "outputId": "3e6abc4f-80ac-4036-81ac-5e2f10bf5e43"
      },
      "execution_count": 6,
      "outputs": [
        {
          "output_type": "execute_result",
          "data": {
            "text/plain": [
              "array([[ True,  True,  True],\n",
              "       [ True,  True,  True],\n",
              "       [ True,  True,  True],\n",
              "       [ True,  True,  True],\n",
              "       [ True,  True,  True],\n",
              "       [ True,  True,  True],\n",
              "       [ True,  True,  True],\n",
              "       [ True,  True,  True],\n",
              "       [ True,  True,  True],\n",
              "       [ True, False, False],\n",
              "       [ True,  True,  True],\n",
              "       [ True,  True,  True],\n",
              "       [ True,  True, False],\n",
              "       [ True, False,  True],\n",
              "       [ True,  True,  True],\n",
              "       [ True, False, False],\n",
              "       [False,  True, False],\n",
              "       [ True,  True,  True],\n",
              "       [ True,  True,  True],\n",
              "       [ True,  True,  True],\n",
              "       [ True, False,  True],\n",
              "       [ True,  True,  True],\n",
              "       [False,  True,  True],\n",
              "       [False,  True, False],\n",
              "       [ True,  True,  True],\n",
              "       [False,  True,  True],\n",
              "       [ True,  True,  True],\n",
              "       [ True,  True,  True],\n",
              "       [ True,  True,  True],\n",
              "       [ True, False,  True],\n",
              "       [False,  True,  True],\n",
              "       [False,  True,  True],\n",
              "       [ True,  True,  True],\n",
              "       [ True,  True, False],\n",
              "       [False,  True,  True],\n",
              "       [ True,  True,  True],\n",
              "       [False, False,  True],\n",
              "       [False,  True,  True],\n",
              "       [ True,  True,  True],\n",
              "       [ True,  True,  True],\n",
              "       [ True,  True,  True],\n",
              "       [ True,  True, False],\n",
              "       [ True, False,  True],\n",
              "       [ True,  True, False],\n",
              "       [ True,  True,  True],\n",
              "       [False,  True, False],\n",
              "       [ True,  True,  True],\n",
              "       [ True,  True,  True],\n",
              "       [ True,  True,  True],\n",
              "       [ True, False,  True],\n",
              "       [ True,  True, False],\n",
              "       [ True,  True,  True],\n",
              "       [ True,  True,  True],\n",
              "       [ True, False,  True],\n",
              "       [ True,  True,  True],\n",
              "       [ True,  True, False],\n",
              "       [ True,  True,  True],\n",
              "       [ True,  True,  True],\n",
              "       [ True,  True,  True],\n",
              "       [False,  True,  True],\n",
              "       [ True,  True, False],\n",
              "       [ True,  True,  True],\n",
              "       [ True, False,  True],\n",
              "       [False, False, False],\n",
              "       [ True,  True,  True],\n",
              "       [False,  True,  True],\n",
              "       [ True,  True,  True],\n",
              "       [ True, False, False],\n",
              "       [False,  True,  True],\n",
              "       [ True, False,  True],\n",
              "       [ True,  True,  True],\n",
              "       [ True,  True,  True],\n",
              "       [False, False, False],\n",
              "       [ True,  True, False],\n",
              "       [ True,  True,  True],\n",
              "       [ True,  True,  True],\n",
              "       [ True,  True,  True],\n",
              "       [ True,  True,  True],\n",
              "       [ True, False, False],\n",
              "       [ True,  True,  True],\n",
              "       [False, False, False],\n",
              "       [ True,  True,  True],\n",
              "       [ True,  True, False],\n",
              "       [ True,  True,  True],\n",
              "       [ True,  True,  True],\n",
              "       [ True,  True,  True],\n",
              "       [ True,  True,  True],\n",
              "       [ True,  True,  True],\n",
              "       [ True, False,  True],\n",
              "       [ True,  True,  True],\n",
              "       [ True,  True,  True],\n",
              "       [ True,  True,  True],\n",
              "       [ True,  True,  True],\n",
              "       [ True,  True, False],\n",
              "       [ True, False,  True],\n",
              "       [ True,  True,  True],\n",
              "       [ True,  True, False],\n",
              "       [ True,  True,  True],\n",
              "       [ True,  True,  True],\n",
              "       [False, False, False]])"
            ]
          },
          "metadata": {},
          "execution_count": 6
        }
      ]
    },
    {
      "cell_type": "code",
      "source": [
        "ypred = np.stack((knn_pred, gnb_pred, per_pred))\n",
        "ypred.T"
      ],
      "metadata": {
        "colab": {
          "base_uri": "https://localhost:8080/"
        },
        "id": "8QIzK-Ja5Flm",
        "outputId": "365d6df5-bbe6-4a69-b68b-ab666268915b"
      },
      "execution_count": 7,
      "outputs": [
        {
          "output_type": "execute_result",
          "data": {
            "text/plain": [
              "array([[20, 20, 20],\n",
              "       [28, 28, 28],\n",
              "       [ 3,  3,  3],\n",
              "       [21, 21, 21],\n",
              "       [ 9,  9,  9],\n",
              "       [ 8,  8,  8],\n",
              "       [32, 32, 32],\n",
              "       [ 9,  9,  9],\n",
              "       [26, 26, 26],\n",
              "       [12, 16, 28],\n",
              "       [ 0,  0,  0],\n",
              "       [36, 36, 36],\n",
              "       [ 5,  5,  8],\n",
              "       [ 7, 15,  7],\n",
              "       [13, 13, 13],\n",
              "       [ 4, 34, 29],\n",
              "       [25, 27, 25],\n",
              "       [37, 37, 37],\n",
              "       [23, 23, 23],\n",
              "       [38, 38, 38],\n",
              "       [ 7, 15,  7],\n",
              "       [ 1,  1,  1],\n",
              "       [ 4, 39, 39],\n",
              "       [25, 27, 25],\n",
              "       [ 0,  0,  0],\n",
              "       [ 3, 39, 39],\n",
              "       [11, 11, 11],\n",
              "       [22, 22, 22],\n",
              "       [26, 26, 26],\n",
              "       [10, 15, 10],\n",
              "       [29, 39, 39],\n",
              "       [29, 19, 19],\n",
              "       [26, 26, 26],\n",
              "       [ 5,  5, 29],\n",
              "       [20, 23, 23],\n",
              "       [11, 11, 11],\n",
              "       [12, 39, 11],\n",
              "       [20, 34, 34],\n",
              "       [15, 15, 15],\n",
              "       [14, 14, 14],\n",
              "       [38, 38, 38],\n",
              "       [ 5,  5, 29],\n",
              "       [ 7,  9,  7],\n",
              "       [ 2,  2, 36],\n",
              "       [ 8,  8,  8],\n",
              "       [28, 38, 28],\n",
              "       [14, 14, 14],\n",
              "       [18, 18, 18],\n",
              "       [ 2,  2,  2],\n",
              "       [17, 39, 17],\n",
              "       [ 4,  4, 39],\n",
              "       [32, 32, 32],\n",
              "       [33, 33, 33],\n",
              "       [ 7,  9,  7],\n",
              "       [37, 37, 37],\n",
              "       [ 3,  3,  1],\n",
              "       [22, 22, 22],\n",
              "       [17, 17, 17],\n",
              "       [ 3,  3,  3],\n",
              "       [ 0, 15, 15],\n",
              "       [12, 12, 36],\n",
              "       [29, 29, 29],\n",
              "       [25, 16, 25],\n",
              "       [17, 35, 28],\n",
              "       [10, 10, 10],\n",
              "       [14,  3,  3],\n",
              "       [35, 35, 35],\n",
              "       [26, 12,  1],\n",
              "       [37, 39, 39],\n",
              "       [ 7,  9,  7],\n",
              "       [32, 32, 32],\n",
              "       [14, 14, 14],\n",
              "       [ 3, 35, 20],\n",
              "       [ 4,  4,  8],\n",
              "       [38, 38, 38],\n",
              "       [24, 24, 24],\n",
              "       [22, 22, 22],\n",
              "       [36, 36, 36],\n",
              "       [17,  9, 28],\n",
              "       [28, 28, 28],\n",
              "       [16, 16, 20],\n",
              "       [ 1,  1,  1],\n",
              "       [20, 20,  8],\n",
              "       [25, 25, 25],\n",
              "       [27, 27, 27],\n",
              "       [ 6,  6,  6],\n",
              "       [24, 24, 24],\n",
              "       [30, 30, 30],\n",
              "       [10, 15, 10],\n",
              "       [ 9,  9,  9],\n",
              "       [23, 23, 23],\n",
              "       [33, 33, 33],\n",
              "       [11, 11, 11],\n",
              "       [22, 22,  8],\n",
              "       [18, 25, 18],\n",
              "       [31, 31, 31],\n",
              "       [37, 37, 39],\n",
              "       [38, 38, 38],\n",
              "       [23, 23, 23],\n",
              "       [17,  9, 18]])"
            ]
          },
          "metadata": {},
          "execution_count": 7
        }
      ]
    },
    {
      "cell_type": "code",
      "source": [
        "from scipy import stats\n",
        "vote_pred = stats.mode(ypred)[0]\n",
        "vote_hits = vote_pred == yte\n",
        "vote_hits, sum(vote_hits)/len(vote_hits)"
      ],
      "metadata": {
        "colab": {
          "base_uri": "https://localhost:8080/"
        },
        "id": "eCT_sojQ53qs",
        "outputId": "04c42757-8c86-4b67-9463-2bb12292b44e"
      },
      "execution_count": 8,
      "outputs": [
        {
          "output_type": "execute_result",
          "data": {
            "text/plain": [
              "(array([ True,  True,  True,  True,  True,  True,  True,  True,  True,\n",
              "         True,  True,  True,  True,  True,  True,  True, False,  True,\n",
              "         True,  True,  True,  True,  True, False,  True,  True,  True,\n",
              "         True,  True,  True,  True,  True,  True,  True,  True,  True,\n",
              "         True,  True,  True,  True,  True,  True,  True,  True,  True,\n",
              "        False,  True,  True,  True,  True,  True,  True,  True,  True,\n",
              "         True,  True,  True,  True,  True,  True,  True,  True,  True,\n",
              "        False,  True,  True,  True, False,  True,  True,  True,  True,\n",
              "        False,  True,  True,  True,  True,  True, False,  True, False,\n",
              "         True,  True,  True,  True,  True,  True,  True,  True,  True,\n",
              "         True,  True,  True,  True,  True,  True,  True,  True,  True,\n",
              "        False]),\n",
              " 0.91)"
            ]
          },
          "metadata": {},
          "execution_count": 8
        }
      ]
    },
    {
      "cell_type": "markdown",
      "source": [
        "#Combinação de Classificadores"
      ],
      "metadata": {
        "id": "ICQP3fff7Sjl"
      }
    },
    {
      "cell_type": "code",
      "source": [
        "from sklearn.ensemble import VotingClassifier\n",
        "modelo = VotingClassifier([\n",
        "    ('knn', KNeighborsClassifier()),\n",
        "    ('gnb', GaussianNB()),\n",
        "    ('per', Perceptron())\n",
        "])\n",
        "modelo.fit(Xtr, ytr)\n",
        "vote_pred = modelo.predict(Xte)\n",
        "vote_hits = vote_pred == yte\n",
        "vote_hits, sum(vote_hits)/len(vote_hits)"
      ],
      "metadata": {
        "colab": {
          "base_uri": "https://localhost:8080/"
        },
        "id": "mYINQuzC7RbI",
        "outputId": "4f4d20f0-50b1-4068-cfe8-9b008f23a6f0"
      },
      "execution_count": 9,
      "outputs": [
        {
          "output_type": "execute_result",
          "data": {
            "text/plain": [
              "(array([ True,  True,  True,  True,  True,  True,  True,  True,  True,\n",
              "         True,  True,  True,  True,  True,  True,  True, False,  True,\n",
              "         True,  True,  True,  True,  True, False,  True,  True,  True,\n",
              "         True,  True,  True,  True,  True,  True,  True,  True,  True,\n",
              "         True,  True,  True,  True,  True,  True,  True,  True,  True,\n",
              "        False,  True,  True,  True,  True,  True,  True,  True,  True,\n",
              "         True,  True,  True,  True,  True,  True,  True,  True,  True,\n",
              "        False,  True,  True,  True, False,  True,  True,  True,  True,\n",
              "        False,  True,  True,  True,  True,  True, False,  True, False,\n",
              "         True,  True,  True,  True,  True,  True,  True,  True,  True,\n",
              "         True,  True,  True,  True,  True,  True,  True,  True,  True,\n",
              "        False]),\n",
              " 0.91)"
            ]
          },
          "metadata": {},
          "execution_count": 9
        }
      ]
    },
    {
      "cell_type": "code",
      "source": [
        "from sklearn.ensemble import VotingClassifier\n",
        "modelo = VotingClassifier([\n",
        "    ('knn1', KNeighborsClassifier(1)),\n",
        "    ('knn5', KNeighborsClassifier(5)),\n",
        "    ('knn9', KNeighborsClassifier(9)),\n",
        "])\n",
        "modelo.fit(Xtr, ytr)\n",
        "vote_pred = modelo.predict(Xte)\n",
        "vote_hits = vote_pred == yte\n",
        "vote_hits, sum(vote_hits)/len(vote_hits)"
      ],
      "metadata": {
        "colab": {
          "base_uri": "https://localhost:8080/"
        },
        "id": "itEjKV-a8NMc",
        "outputId": "184faf8b-298b-4278-a3f2-a4f1bcf5b117"
      },
      "execution_count": 10,
      "outputs": [
        {
          "output_type": "execute_result",
          "data": {
            "text/plain": [
              "(array([ True,  True,  True,  True,  True,  True,  True,  True,  True,\n",
              "         True,  True,  True,  True,  True,  True,  True, False,  True,\n",
              "         True,  True,  True,  True, False,  True,  True, False,  True,\n",
              "         True,  True,  True, False, False,  True,  True,  True,  True,\n",
              "        False, False, False,  True,  True,  True,  True,  True,  True,\n",
              "        False,  True,  True,  True,  True,  True,  True,  True,  True,\n",
              "         True,  True,  True,  True,  True,  True,  True,  True,  True,\n",
              "        False,  True, False,  True,  True, False,  True,  True,  True,\n",
              "        False,  True,  True,  True,  True,  True,  True,  True, False,\n",
              "         True,  True,  True,  True,  True,  True,  True,  True,  True,\n",
              "         True,  True,  True, False,  True,  True,  True,  True,  True,\n",
              "        False]),\n",
              " 0.84)"
            ]
          },
          "metadata": {},
          "execution_count": 10
        }
      ]
    },
    {
      "cell_type": "code",
      "source": [
        "from sklearn.tree import DecisionTreeClassifier\n",
        "modelo = DecisionTreeClassifier()\n",
        "modelo.fit(Xtr, ytr)\n",
        "dtc_pred = modelo.predict(Xte)\n",
        "dtc_hits = dtc_pred == yte\n",
        "dtc_hits, sum(dtc_hits)/len(dtc_hits)"
      ],
      "metadata": {
        "colab": {
          "base_uri": "https://localhost:8080/"
        },
        "id": "fRHw755u8rJW",
        "outputId": "d12953f9-5c9b-4202-8a96-78370ead1238"
      },
      "execution_count": 11,
      "outputs": [
        {
          "output_type": "execute_result",
          "data": {
            "text/plain": [
              "(array([ True, False,  True,  True,  True, False,  True,  True,  True,\n",
              "        False, False,  True,  True, False, False,  True, False, False,\n",
              "         True,  True, False, False, False, False,  True, False, False,\n",
              "        False,  True,  True, False,  True, False, False, False, False,\n",
              "        False, False,  True, False, False,  True, False,  True,  True,\n",
              "        False, False,  True,  True,  True, False,  True,  True, False,\n",
              "         True, False, False, False,  True,  True,  True,  True, False,\n",
              "        False,  True, False,  True, False, False, False,  True, False,\n",
              "        False,  True,  True,  True,  True, False, False, False, False,\n",
              "        False, False,  True, False,  True,  True,  True, False,  True,\n",
              "         True,  True,  True,  True,  True,  True, False, False, False,\n",
              "        False]),\n",
              " 0.48)"
            ]
          },
          "metadata": {},
          "execution_count": 11
        }
      ]
    },
    {
      "cell_type": "code",
      "source": [
        "from sklearn.model_selection import cross_validate\n",
        "scores = cross_validate(DecisionTreeClassifier(), X, y)\n",
        "np.mean(scores['test_score']), scores['test_score']"
      ],
      "metadata": {
        "colab": {
          "base_uri": "https://localhost:8080/"
        },
        "id": "m023_b4p-id7",
        "outputId": "df7653c5-51a7-4c1a-bd0d-f77abe2eafee"
      },
      "execution_count": 12,
      "outputs": [
        {
          "output_type": "execute_result",
          "data": {
            "text/plain": [
              "(0.6024999999999999, array([0.6125, 0.625 , 0.6   , 0.65  , 0.525 ]))"
            ]
          },
          "metadata": {},
          "execution_count": 12
        }
      ]
    },
    {
      "cell_type": "code",
      "source": [
        "from sklearn.ensemble import VotingClassifier\n",
        "modelo = VotingClassifier([\n",
        "    ('knn', KNeighborsClassifier()),\n",
        "    ('gnb', GaussianNB()),\n",
        "    ('dtc', DecisionTreeClassifier())\n",
        "])\n",
        "modelo.fit(Xtr, ytr)\n",
        "vote_pred = modelo.predict(Xte)\n",
        "vote_hits = vote_pred == yte\n",
        "vote_hits, sum(vote_hits)/len(vote_hits)"
      ],
      "metadata": {
        "colab": {
          "base_uri": "https://localhost:8080/"
        },
        "id": "at5NHlbH9UGd",
        "outputId": "bbdfe914-bb6f-4538-d9dc-25aee307dabc"
      },
      "execution_count": 13,
      "outputs": [
        {
          "output_type": "execute_result",
          "data": {
            "text/plain": [
              "(array([ True,  True,  True,  True,  True,  True,  True,  True,  True,\n",
              "        False,  True,  True,  True, False,  True,  True, False,  True,\n",
              "         True,  True,  True,  True, False, False,  True, False,  True,\n",
              "         True,  True,  True,  True,  True,  True,  True, False,  True,\n",
              "        False, False,  True,  True,  True,  True,  True,  True,  True,\n",
              "        False,  True,  True,  True,  True,  True,  True,  True,  True,\n",
              "         True,  True,  True,  True,  True,  True,  True,  True, False,\n",
              "        False,  True,  True,  True, False, False,  True,  True,  True,\n",
              "        False,  True,  True,  True,  True,  True, False,  True, False,\n",
              "         True,  True,  True,  True,  True,  True,  True,  True,  True,\n",
              "         True,  True,  True,  True,  True,  True,  True,  True,  True,\n",
              "        False]),\n",
              " 0.82)"
            ]
          },
          "metadata": {},
          "execution_count": 13
        }
      ]
    },
    {
      "cell_type": "code",
      "source": [
        "from sklearn.ensemble import VotingClassifier\n",
        "modelo = VotingClassifier([\n",
        "    ('knn', KNeighborsClassifier()),\n",
        "    ('gnb', GaussianNB()),\n",
        "    ('per', Perceptron()),\n",
        "    ('dtc', DecisionTreeClassifier())\n",
        "])\n",
        "modelo.fit(Xtr, ytr)\n",
        "vote_pred = modelo.predict(Xte)\n",
        "vote_hits = vote_pred == yte\n",
        "vote_hits, sum(vote_hits)/len(vote_hits)"
      ],
      "metadata": {
        "colab": {
          "base_uri": "https://localhost:8080/"
        },
        "id": "kTOQStic_LQu",
        "outputId": "81fd82b3-99e3-4235-a5bc-f2c019f775ec"
      },
      "execution_count": 14,
      "outputs": [
        {
          "output_type": "execute_result",
          "data": {
            "text/plain": [
              "(array([ True,  True,  True,  True,  True,  True,  True,  True,  True,\n",
              "        False,  True,  True,  True,  True,  True, False, False,  True,\n",
              "         True,  True,  True,  True,  True, False,  True,  True,  True,\n",
              "         True,  True,  True,  True,  True,  True,  True,  True,  True,\n",
              "         True,  True,  True,  True,  True,  True,  True,  True,  True,\n",
              "        False,  True,  True,  True,  True,  True,  True,  True,  True,\n",
              "         True,  True,  True,  True,  True,  True,  True,  True,  True,\n",
              "        False,  True,  True,  True, False,  True,  True,  True,  True,\n",
              "        False,  True,  True,  True,  True,  True, False,  True, False,\n",
              "         True,  True,  True,  True,  True,  True,  True,  True,  True,\n",
              "         True,  True,  True,  True,  True,  True,  True,  True,  True,\n",
              "        False]),\n",
              " 0.89)"
            ]
          },
          "metadata": {},
          "execution_count": 14
        }
      ]
    },
    {
      "cell_type": "code",
      "source": [
        "from sklearn.tree import DecisionTreeClassifier\n",
        "modelo = DecisionTreeClassifier(splitter='random')\n",
        "modelo.fit(Xtr, ytr)\n",
        "dtc_pred = modelo.predict(Xte)\n",
        "dtc_hits = dtc_pred == yte\n",
        "dtc_hits, sum(dtc_hits)/len(dtc_hits)"
      ],
      "metadata": {
        "colab": {
          "base_uri": "https://localhost:8080/"
        },
        "id": "00593r359rPr",
        "outputId": "68902565-e177-4424-d639-ee7d06224f76"
      },
      "execution_count": 15,
      "outputs": [
        {
          "output_type": "execute_result",
          "data": {
            "text/plain": [
              "(array([ True,  True,  True,  True,  True,  True,  True,  True, False,\n",
              "        False, False,  True,  True,  True,  True,  True,  True,  True,\n",
              "         True,  True,  True, False, False, False, False, False,  True,\n",
              "         True, False, False, False,  True, False,  True,  True,  True,\n",
              "        False, False, False, False, False, False, False,  True,  True,\n",
              "        False,  True,  True,  True, False, False,  True,  True,  True,\n",
              "         True,  True, False,  True, False,  True,  True, False, False,\n",
              "        False, False,  True,  True, False, False, False,  True,  True,\n",
              "        False, False,  True,  True,  True, False, False,  True, False,\n",
              "        False, False,  True, False,  True, False,  True, False,  True,\n",
              "         True, False,  True, False,  True,  True,  True,  True,  True,\n",
              "         True]),\n",
              " 0.57)"
            ]
          },
          "metadata": {},
          "execution_count": 15
        }
      ]
    },
    {
      "cell_type": "markdown",
      "source": [
        "#Diversificação da Amostragem"
      ],
      "metadata": {
        "id": "cOBRAOlL_eda"
      }
    },
    {
      "cell_type": "code",
      "source": [
        "from sklearn.ensemble import BaggingClassifier\n",
        "modelo = BaggingClassifier(DecisionTreeClassifier(splitter='random'),\n",
        "                           n_estimators=100, max_features=0.15, random_state=42)\n",
        "modelo.fit(Xtr, ytr)\n",
        "bag_pred = modelo.predict(Xte)\n",
        "bag_hits = bag_pred == yte\n",
        "bag_hits, sum(bag_hits)/len(bag_hits)"
      ],
      "metadata": {
        "colab": {
          "base_uri": "https://localhost:8080/"
        },
        "id": "g6cyPcS8_h3t",
        "outputId": "4567d223-a719-4052-e3bb-8b9f909933cd"
      },
      "execution_count": 16,
      "outputs": [
        {
          "output_type": "execute_result",
          "data": {
            "text/plain": [
              "(array([ True,  True,  True,  True,  True,  True,  True,  True,  True,\n",
              "         True,  True,  True,  True,  True,  True,  True, False,  True,\n",
              "         True,  True,  True,  True,  True,  True,  True,  True,  True,\n",
              "         True,  True,  True,  True,  True,  True,  True,  True,  True,\n",
              "         True,  True,  True,  True, False,  True,  True,  True,  True,\n",
              "         True,  True,  True,  True,  True,  True,  True,  True,  True,\n",
              "         True,  True, False,  True,  True,  True,  True,  True, False,\n",
              "        False,  True,  True,  True,  True,  True,  True,  True,  True,\n",
              "         True,  True,  True,  True,  True,  True,  True,  True, False,\n",
              "         True,  True,  True,  True,  True,  True,  True,  True,  True,\n",
              "         True,  True,  True,  True,  True,  True,  True,  True,  True,\n",
              "         True]),\n",
              " 0.94)"
            ]
          },
          "metadata": {},
          "execution_count": 16
        }
      ]
    },
    {
      "cell_type": "code",
      "source": [
        "from sklearn.ensemble import RandomForestClassifier\n",
        "modelo = RandomForestClassifier(random_state=42)\n",
        "modelo.fit(Xtr, ytr)\n",
        "rfc_pred = modelo.predict(Xte)\n",
        "rfc_hits = rfc_pred == yte\n",
        "rfc_hits, sum(rfc_hits)/len(rfc_hits)"
      ],
      "metadata": {
        "colab": {
          "base_uri": "https://localhost:8080/"
        },
        "id": "jI4GtmIhBfG7",
        "outputId": "24468c50-dc7f-4443-ada6-de5d511c7c42"
      },
      "execution_count": 17,
      "outputs": [
        {
          "output_type": "execute_result",
          "data": {
            "text/plain": [
              "(array([ True,  True,  True,  True,  True,  True,  True,  True,  True,\n",
              "         True,  True,  True,  True,  True,  True,  True, False,  True,\n",
              "         True,  True,  True,  True,  True,  True,  True,  True,  True,\n",
              "         True,  True,  True,  True,  True,  True,  True,  True,  True,\n",
              "        False,  True,  True,  True, False,  True, False,  True,  True,\n",
              "         True,  True,  True,  True,  True, False,  True,  True, False,\n",
              "         True,  True,  True,  True,  True,  True,  True,  True, False,\n",
              "        False,  True,  True,  True,  True, False, False,  True,  True,\n",
              "        False,  True,  True,  True,  True,  True,  True,  True, False,\n",
              "         True,  True,  True,  True,  True,  True,  True,  True,  True,\n",
              "         True,  True,  True,  True,  True,  True,  True,  True,  True,\n",
              "         True]),\n",
              " 0.88)"
            ]
          },
          "metadata": {},
          "execution_count": 17
        }
      ]
    },
    {
      "cell_type": "code",
      "source": [
        "scores = cross_validate(RandomForestClassifier(random_state=42), X, y)\n",
        "np.mean(scores['test_score']), scores"
      ],
      "metadata": {
        "colab": {
          "base_uri": "https://localhost:8080/"
        },
        "id": "D9oXGygAJy8n",
        "outputId": "69d55f18-cffc-4a1a-a268-c531bd513d61"
      },
      "execution_count": 18,
      "outputs": [
        {
          "output_type": "execute_result",
          "data": {
            "text/plain": [
              "(0.9400000000000001,\n",
              " {'fit_time': array([2.48180246, 2.65323424, 3.3523078 , 2.42611074, 2.46236372]),\n",
              "  'score_time': array([0.00884581, 0.01318693, 0.00897217, 0.00894952, 0.00881124]),\n",
              "  'test_score': array([0.9875, 0.9375, 0.95  , 0.9375, 0.8875])})"
            ]
          },
          "metadata": {},
          "execution_count": 18
        }
      ]
    },
    {
      "cell_type": "code",
      "source": [
        "from sklearn.ensemble import ExtraTreesClassifier\n",
        "modelo = ExtraTreesClassifier(random_state=42)\n",
        "modelo.fit(Xtr, ytr)\n",
        "etc_pred = modelo.predict(Xte)\n",
        "etc_hits = etc_pred == yte\n",
        "etc_hits, sum(etc_hits)/len(etc_hits)"
      ],
      "metadata": {
        "colab": {
          "base_uri": "https://localhost:8080/"
        },
        "id": "tpv4dresCozq",
        "outputId": "ee0a21bd-5a11-4fe2-d18c-2320fbc1effb"
      },
      "execution_count": 19,
      "outputs": [
        {
          "output_type": "execute_result",
          "data": {
            "text/plain": [
              "(array([ True,  True,  True,  True,  True,  True,  True,  True,  True,\n",
              "         True,  True,  True,  True,  True,  True,  True,  True,  True,\n",
              "         True,  True,  True,  True,  True,  True,  True,  True,  True,\n",
              "         True,  True,  True,  True,  True,  True,  True,  True,  True,\n",
              "         True, False,  True,  True,  True,  True,  True,  True,  True,\n",
              "         True,  True,  True,  True,  True,  True,  True,  True,  True,\n",
              "         True, False,  True,  True,  True,  True,  True,  True, False,\n",
              "        False,  True,  True,  True,  True,  True,  True,  True,  True,\n",
              "         True,  True,  True,  True,  True,  True,  True,  True, False,\n",
              "         True,  True,  True,  True,  True,  True,  True,  True,  True,\n",
              "         True,  True,  True,  True,  True,  True,  True,  True,  True,\n",
              "         True]),\n",
              " 0.95)"
            ]
          },
          "metadata": {},
          "execution_count": 19
        }
      ]
    },
    {
      "cell_type": "code",
      "source": [
        "scores = cross_validate(ExtraTreesClassifier(random_state=42), X, y)\n",
        "np.mean(scores['test_score']), scores"
      ],
      "metadata": {
        "colab": {
          "base_uri": "https://localhost:8080/"
        },
        "id": "a0SqPvviJmWy",
        "outputId": "9db1e2e5-ab3f-45b0-e999-1df35c8af2d4"
      },
      "execution_count": 20,
      "outputs": [
        {
          "output_type": "execute_result",
          "data": {
            "text/plain": [
              "(0.9625,\n",
              " {'fit_time': array([0.56966424, 0.54367971, 0.55257249, 0.52579188, 0.53274655]),\n",
              "  'score_time': array([0.01010656, 0.00938487, 0.00966287, 0.0089457 , 0.00885487]),\n",
              "  'test_score': array([1.    , 0.9375, 0.9625, 0.9625, 0.95  ])})"
            ]
          },
          "metadata": {},
          "execution_count": 20
        }
      ]
    },
    {
      "cell_type": "code",
      "source": [
        "from sklearn.base import BaseEstimator, ClassifierMixin\n",
        "from collections import Counter\n",
        "import random\n",
        "\n",
        "def maisFrequente(y):\n",
        "  return Counter(y.flat).most_common(1)[0][0]\n",
        "\n",
        "def melhorCaracteristica(X, y):\n",
        "  caracteristica = random.randint(0, X.shape[1]-1)\n",
        "  xmin = np.min(X[:,caracteristica])\n",
        "  xmax = np.max(X[:,caracteristica])\n",
        "  valor = random.random()*(xmax-xmin)+xmin\n",
        "  return caracteristica, valor\n",
        "\n",
        "class Arvore(BaseEstimator, ClassifierMixin):\n",
        "  def fit(self, X, y):\n",
        "    self.caracteristica, self.valor = melhorCaracteristica(X, y)\n",
        "    maiores = X[:,self.caracteristica] > self.valor\n",
        "    if sum(maiores)>0 and sum(~maiores)>0:\n",
        "      self.maiores = Arvore()\n",
        "      self.maiores.fit(X[maiores,:], y[maiores])\n",
        "      self.menores = Arvore()\n",
        "      self.menores.fit(X[~maiores,:], y[~maiores])\n",
        "    else:\n",
        "      self.resposta = maisFrequente(y)\n",
        "    return self\n",
        "  def predict(self, X, y=None):\n",
        "    y = np.empty((X.shape[0]), dtype=np.int64)\n",
        "    if hasattr(self, 'resposta'):\n",
        "      y[:] = self.resposta\n",
        "    else:\n",
        "      maiores = X[:,self.caracteristica] > self.valor\n",
        "      y[maiores] = self.maiores.predict(X[maiores,:])\n",
        "      y[~maiores] = self.menores.predict(X[~maiores,:])\n",
        "    return y\n",
        "\n",
        "modelo = BaggingClassifier(Arvore(),\n",
        "                           n_estimators=200,\n",
        "                           max_features=0.1,\n",
        "                           random_state=42)\n",
        "modelo.fit(Xtr, ytr)\n",
        "bag_pred = modelo.predict(Xte)\n",
        "bag_hits = bag_pred == yte\n",
        "bag_hits, sum(bag_hits)/len(bag_hits)"
      ],
      "metadata": {
        "colab": {
          "base_uri": "https://localhost:8080/"
        },
        "id": "_gvIDxI4DPPw",
        "outputId": "2abdef09-6ec0-44f0-f0d0-0e93a0a84e0a"
      },
      "execution_count": 21,
      "outputs": [
        {
          "output_type": "execute_result",
          "data": {
            "text/plain": [
              "(array([ True,  True,  True,  True,  True,  True,  True,  True,  True,\n",
              "         True,  True,  True,  True,  True,  True,  True, False,  True,\n",
              "         True,  True,  True,  True,  True, False,  True,  True,  True,\n",
              "        False,  True,  True,  True,  True,  True,  True,  True,  True,\n",
              "        False,  True,  True,  True,  True,  True,  True,  True,  True,\n",
              "         True,  True,  True,  True,  True,  True,  True,  True,  True,\n",
              "         True, False, False,  True,  True,  True,  True,  True,  True,\n",
              "        False,  True,  True,  True,  True, False,  True,  True,  True,\n",
              "        False,  True,  True,  True,  True,  True,  True,  True, False,\n",
              "         True,  True,  True,  True,  True,  True,  True,  True,  True,\n",
              "         True,  True,  True, False,  True,  True,  True,  True,  True,\n",
              "         True]),\n",
              " 0.89)"
            ]
          },
          "metadata": {},
          "execution_count": 21
        }
      ]
    },
    {
      "cell_type": "code",
      "source": [
        "modelo = BaggingClassifier(Arvore(),\n",
        "                           n_estimators=200,\n",
        "                           max_features=0.1,\n",
        "                           random_state=42)\n",
        "scores = cross_validate(modelo, X, y)\n",
        "np.mean(scores['test_score']), scores"
      ],
      "metadata": {
        "colab": {
          "base_uri": "https://localhost:8080/"
        },
        "id": "xbD7FwI7JVZx",
        "outputId": "aa288046-61cd-4f8b-d1a2-6930163a5026"
      },
      "execution_count": 22,
      "outputs": [
        {
          "output_type": "execute_result",
          "data": {
            "text/plain": [
              "(0.9400000000000001,\n",
              " {'fit_time': array([3.86909747, 3.74085188, 4.75333548, 3.86410189, 3.64312792]),\n",
              "  'score_time': array([0.49850726, 0.50459719, 0.83451843, 0.50864577, 0.50281358]),\n",
              "  'test_score': array([0.9375, 0.925 , 0.9625, 0.9625, 0.9125])})"
            ]
          },
          "metadata": {},
          "execution_count": 22
        }
      ]
    },
    {
      "cell_type": "code",
      "source": [
        "from sklearn.ensemble import AdaBoostClassifier\n",
        "modelo = AdaBoostClassifier(DecisionTreeClassifier(max_depth=25, splitter='random'),\n",
        "                            learning_rate=0.15, random_state=42)\n",
        "modelo.fit(Xtr, ytr)\n",
        "abc_pred = modelo.predict(Xte)\n",
        "abc_hits = abc_pred == yte\n",
        "abc_hits, sum(abc_hits)/len(abc_hits)"
      ],
      "metadata": {
        "colab": {
          "base_uri": "https://localhost:8080/"
        },
        "id": "nkYWrE-YHW2a",
        "outputId": "0af34997-f80d-4c3c-d1d7-a5495771bca7"
      },
      "execution_count": 23,
      "outputs": [
        {
          "output_type": "execute_result",
          "data": {
            "text/plain": [
              "(array([ True,  True,  True,  True,  True,  True,  True,  True,  True,\n",
              "         True,  True,  True,  True,  True,  True,  True,  True,  True,\n",
              "         True,  True,  True,  True,  True,  True,  True,  True,  True,\n",
              "         True,  True,  True,  True,  True,  True,  True,  True,  True,\n",
              "        False,  True,  True,  True, False,  True,  True,  True,  True,\n",
              "         True,  True,  True,  True,  True, False,  True,  True,  True,\n",
              "         True,  True, False,  True,  True,  True,  True,  True, False,\n",
              "        False,  True,  True,  True,  True,  True, False,  True,  True,\n",
              "         True,  True,  True,  True,  True,  True,  True,  True, False,\n",
              "         True,  True,  True,  True,  True,  True,  True,  True, False,\n",
              "         True,  True,  True,  True,  True,  True,  True,  True,  True,\n",
              "         True]),\n",
              " 0.91)"
            ]
          },
          "metadata": {},
          "execution_count": 23
        }
      ]
    },
    {
      "cell_type": "code",
      "source": [
        "modelo = AdaBoostClassifier(DecisionTreeClassifier(max_depth=25, splitter='random'),\n",
        "                            learning_rate=0.15, random_state=42)\n",
        "scores = cross_validate(modelo, X, y)\n",
        "np.mean(scores['test_score']), scores"
      ],
      "metadata": {
        "colab": {
          "base_uri": "https://localhost:8080/"
        },
        "id": "4XwOqxAOI2r1",
        "outputId": "48579914-2791-43af-d7b4-9558e3b532dd"
      },
      "execution_count": 24,
      "outputs": [
        {
          "output_type": "execute_result",
          "data": {
            "text/plain": [
              "(0.6599999999999999,\n",
              " {'fit_time': array([0.71535158, 0.41714263, 0.8984077 , 2.73971009, 0.65190816]),\n",
              "  'score_time': array([0.00248384, 0.00171494, 0.00262141, 0.00653172, 0.00247955]),\n",
              "  'test_score': array([0.7125, 0.6375, 0.6875, 0.825 , 0.4375])})"
            ]
          },
          "metadata": {},
          "execution_count": 24
        }
      ]
    },
    {
      "cell_type": "code",
      "source": [
        "import warnings\n",
        "warnings.filterwarnings('ignore')\n",
        "\n",
        "from sklearn.ensemble import StackingClassifier\n",
        "\n",
        "voting = VotingClassifier([\n",
        "    ('knn', KNeighborsClassifier()),\n",
        "    ('gnb', GaussianNB()),\n",
        "    ('per', Perceptron())\n",
        "])\n",
        "\n",
        "modelo = StackingClassifier([\n",
        "    ('voting', voting),\n",
        "    ('extrat', ExtraTreesClassifier()),\n",
        "    ('ranfor', RandomForestClassifier())\n",
        "], cv=3, passthrough=True)\n",
        "\n",
        "modelo.fit(Xtr, ytr)\n",
        "stack_pred = modelo.predict(Xte)\n",
        "stack_hits = stack_pred == yte\n",
        "stack_hits, sum(stack_hits)/len(stack_hits)"
      ],
      "metadata": {
        "colab": {
          "base_uri": "https://localhost:8080/"
        },
        "id": "I9N19HwPLEGC",
        "outputId": "ee13f29f-e8db-49b5-9fbd-1fed2111ed46"
      },
      "execution_count": 26,
      "outputs": [
        {
          "output_type": "execute_result",
          "data": {
            "text/plain": [
              "(array([ True,  True,  True,  True,  True,  True,  True,  True,  True,\n",
              "         True,  True,  True,  True,  True,  True,  True,  True,  True,\n",
              "         True,  True,  True,  True,  True,  True,  True,  True,  True,\n",
              "         True,  True,  True, False,  True,  True,  True,  True,  True,\n",
              "         True,  True,  True,  True,  True,  True,  True,  True,  True,\n",
              "         True,  True,  True,  True,  True,  True,  True,  True,  True,\n",
              "         True,  True,  True,  True,  True,  True,  True,  True,  True,\n",
              "        False,  True,  True,  True,  True, False,  True,  True,  True,\n",
              "        False,  True,  True,  True,  True,  True,  True,  True, False,\n",
              "         True,  True,  True,  True,  True,  True,  True,  True,  True,\n",
              "         True,  True,  True,  True,  True,  True,  True,  True,  True,\n",
              "         True]),\n",
              " 0.95)"
            ]
          },
          "metadata": {},
          "execution_count": 26
        }
      ]
    },
    {
      "cell_type": "code",
      "source": [
        "scores = cross_validate(modelo, X, y)\n",
        "np.mean(scores['test_score']), scores"
      ],
      "metadata": {
        "colab": {
          "base_uri": "https://localhost:8080/"
        },
        "id": "d0YzPnczNFMd",
        "outputId": "ad0df5ca-d524-414b-e353-759040e45904"
      },
      "execution_count": 27,
      "outputs": [
        {
          "output_type": "execute_result",
          "data": {
            "text/plain": [
              "(0.9475,\n",
              " {'fit_time': array([23.92079353, 24.20364547, 26.5633173 , 21.73553252, 21.78898549]),\n",
              "  'score_time': array([0.18072677, 0.23023629, 0.21401334, 0.16078305, 0.19932413]),\n",
              "  'test_score': array([0.9875, 0.9375, 0.9125, 0.9625, 0.9375])})"
            ]
          },
          "metadata": {},
          "execution_count": 27
        }
      ]
    }
  ]
}