{
  "nbformat": 4,
  "nbformat_minor": 0,
  "metadata": {
    "colab": {
      "provenance": [],
      "authorship_tag": "ABX9TyPuwhezT8eYnTwJTfWlNZMc",
      "include_colab_link": true
    },
    "kernelspec": {
      "name": "python3",
      "display_name": "Python 3"
    },
    "language_info": {
      "name": "python"
    }
  },
  "cells": [
    {
      "cell_type": "markdown",
      "metadata": {
        "id": "view-in-github",
        "colab_type": "text"
      },
      "source": [
        "<a href=\"https://colab.research.google.com/github/fboldt/postre/blob/main/aula6a_%C3%81rvores_de_decis%C3%A3o_atributos_discretos.ipynb\" target=\"_parent\"><img src=\"https://colab.research.google.com/assets/colab-badge.svg\" alt=\"Open In Colab\"/></a>"
      ]
    },
    {
      "cell_type": "markdown",
      "source": [
        "#Árvore de decisão para atributos discretos"
      ],
      "metadata": {
        "id": "jHpkdqLfpNEP"
      }
    },
    {
      "cell_type": "code",
      "execution_count": 1,
      "metadata": {
        "colab": {
          "base_uri": "https://localhost:8080/"
        },
        "id": "edSh9vN4oOv7",
        "outputId": "3ff4b73a-56d8-460b-9369-bf0728eb7898"
      },
      "outputs": [
        {
          "output_type": "stream",
          "name": "stdout",
          "text": [
            "Collecting ucimlrepo\n",
            "  Downloading ucimlrepo-0.0.3-py3-none-any.whl (7.0 kB)\n",
            "Installing collected packages: ucimlrepo\n",
            "Successfully installed ucimlrepo-0.0.3\n"
          ]
        }
      ],
      "source": [
        "!pip install ucimlrepo"
      ]
    },
    {
      "cell_type": "code",
      "source": [
        "from ucimlrepo import fetch_ucirepo\n",
        "\n",
        "car_evaluation = fetch_ucirepo(id=19)\n",
        "\n",
        "X = car_evaluation.data.features.to_numpy()\n",
        "y = car_evaluation.data.targets.to_numpy()[:,0]\n",
        "\n",
        "print(car_evaluation.metadata)\n",
        "print(car_evaluation.variables)"
      ],
      "metadata": {
        "colab": {
          "base_uri": "https://localhost:8080/"
        },
        "id": "QbEYMggWsNR4",
        "outputId": "22e57a91-884c-4a5c-b548-f1f43f69a0ed"
      },
      "execution_count": 3,
      "outputs": [
        {
          "output_type": "stream",
          "name": "stdout",
          "text": [
            "{'uci_id': 19, 'name': 'Car Evaluation', 'repository_url': 'https://archive.ics.uci.edu/dataset/19/car+evaluation', 'data_url': 'https://archive.ics.uci.edu/static/public/19/data.csv', 'abstract': 'Derived from simple hierarchical decision model, this database may be useful for testing constructive induction and structure discovery methods.', 'area': 'Other', 'tasks': ['Classification'], 'characteristics': ['Multivariate'], 'num_instances': 1728, 'num_features': 6, 'feature_types': ['Categorical'], 'demographics': [], 'target_col': ['class'], 'index_col': None, 'has_missing_values': 'no', 'missing_values_symbol': None, 'year_of_dataset_creation': 1988, 'last_updated': 'Thu Aug 10 2023', 'dataset_doi': '10.24432/C5JP48', 'creators': ['Marko Bohanec'], 'intro_paper': {'title': 'Knowledge acquisition and explanation for multi-attribute decision making', 'authors': 'M. Bohanec, V. Rajkovič', 'published_in': '8th Intl Workshop on Expert Systems and their Applications, Avignon, France', 'year': 1988, 'url': 'https://www.semanticscholar.org/paper/KNOWLEDGE-ACQUISITION-AND-EXPLANATION-FOR-DECISION-Bohanec-Rajkovi%C4%8D/8bab443ae322ff47c3e609272bd93fd4650555bc', 'doi': None}, 'additional_info': {'summary': 'Car Evaluation Database was derived from a simple hierarchical decision model originally developed for the demonstration of DEX, M. Bohanec, V. Rajkovic: Expert system for decision making. Sistemica 1(1), pp. 145-157, 1990.). The model evaluates cars according to the following concept structure:\\r\\n\\r\\nCAR                      car acceptability\\r\\n. PRICE                  overall price\\r\\n. . buying               buying price\\r\\n. . maint                price of the maintenance\\r\\n. TECH                   technical characteristics\\r\\n. . COMFORT              comfort\\r\\n. . . doors              number of doors\\r\\n. . . persons            capacity in terms of persons to carry\\r\\n. . . lug_boot           the size of luggage boot\\r\\n. . safety               estimated safety of the car\\r\\n\\r\\nInput attributes are printed in lowercase. Besides the target concept (CAR), the model includes three intermediate concepts: PRICE, TECH, COMFORT. Every concept is in the original model related to its lower level descendants by a set of examples (for these examples sets see http://www-ai.ijs.si/BlazZupan/car.html).\\r\\n\\r\\nThe Car Evaluation Database contains examples with the structural information removed, i.e., directly relates CAR to the six input attributes: buying, maint, doors, persons, lug_boot, safety.\\r\\n\\r\\nBecause of known underlying concept structure, this database may be particularly useful for testing constructive induction and structure discovery methods.\\r\\n', 'purpose': None, 'funded_by': None, 'instances_represent': None, 'recommended_data_splits': None, 'sensitive_data': None, 'preprocessing_description': None, 'variable_info': 'buying:   vhigh, high, med, low.\\nmaint:    vhigh, high, med, low.\\ndoors:    2, 3, 4, 5more.\\npersons:  2, 4, more.\\nlug_boot: small, med, big.\\nsafety:   low, med, high.', 'citation': None}}\n",
            "       name     role  ... units missing_values\n",
            "0    buying  Feature  ...  None             no\n",
            "1     maint  Feature  ...  None             no\n",
            "2     doors  Feature  ...  None             no\n",
            "3   persons  Feature  ...  None             no\n",
            "4  lug_boot  Feature  ...  None             no\n",
            "5    safety  Feature  ...  None             no\n",
            "6     class   Target  ...  None             no\n",
            "\n",
            "[7 rows x 7 columns]\n"
          ]
        }
      ]
    },
    {
      "cell_type": "code",
      "source": [
        "set(y), len(y)"
      ],
      "metadata": {
        "colab": {
          "base_uri": "https://localhost:8080/"
        },
        "id": "ZLjGtG8ztSoC",
        "outputId": "3a3c4782-0728-463d-8268-73c588789b92"
      },
      "execution_count": 4,
      "outputs": [
        {
          "output_type": "execute_result",
          "data": {
            "text/plain": [
              "({'acc', 'good', 'unacc', 'vgood'}, 1728)"
            ]
          },
          "metadata": {},
          "execution_count": 4
        }
      ]
    },
    {
      "cell_type": "code",
      "source": [
        "combinacoes = 1\n",
        "for i in range(X.shape[1]):\n",
        "  valores = set(X[:,i])\n",
        "  combinacoes *= len(valores)\n",
        "  print(valores)\n",
        "print(combinacoes)"
      ],
      "metadata": {
        "colab": {
          "base_uri": "https://localhost:8080/"
        },
        "id": "U_CSYVIvtgtz",
        "outputId": "758cbde5-0a70-4159-ad9b-fb1fb9f23b31"
      },
      "execution_count": 6,
      "outputs": [
        {
          "output_type": "stream",
          "name": "stdout",
          "text": [
            "{'high', 'vhigh', 'low', 'med'}\n",
            "{'high', 'vhigh', 'low', 'med'}\n",
            "{'4', '5more', '3', '2'}\n",
            "{'more', '4', '2'}\n",
            "{'big', 'small', 'med'}\n",
            "{'high', 'low', 'med'}\n",
            "1728\n"
          ]
        }
      ]
    },
    {
      "cell_type": "code",
      "source": [
        "from sklearn.base import BaseEstimator, ClassifierMixin\n",
        "from collections import Counter\n",
        "import numpy as np\n",
        "from sklearn.model_selection import cross_validate\n",
        "\n",
        "def maisFrequente(y):\n",
        "  return Counter(y.flat).most_common(1)[0][0]\n",
        "\n",
        "class ZeroR(BaseEstimator, ClassifierMixin):\n",
        "  def fit(self, X, y):\n",
        "    self.resposta = maisFrequente(y)\n",
        "    return self\n",
        "  def predict(self, X, y=None):\n",
        "    y = np.empty((X.shape[0]), dtype='<U5')\n",
        "    y[:] = self.resposta\n",
        "    return y\n",
        "\n",
        "scores = cross_validate(ZeroR(), X, y)\n",
        "scores['test_score'], np.mean(scores['test_score'])"
      ],
      "metadata": {
        "colab": {
          "base_uri": "https://localhost:8080/"
        },
        "id": "VvwYMkEtuyPp",
        "outputId": "5cd6dbe3-bae6-427d-c128-199e30ac978a"
      },
      "execution_count": 7,
      "outputs": [
        {
          "output_type": "execute_result",
          "data": {
            "text/plain": [
              "(array([0.69942197, 0.69942197, 0.69942197, 0.70144928, 0.70144928]),\n",
              " 0.7002328893356791)"
            ]
          },
          "metadata": {},
          "execution_count": 7
        }
      ]
    },
    {
      "cell_type": "code",
      "source": [
        "modelo = ZeroR()\n",
        "modelo.fit(X, y)\n",
        "modelo.resposta"
      ],
      "metadata": {
        "colab": {
          "base_uri": "https://localhost:8080/",
          "height": 36
        },
        "id": "_W3c_vH-xCd5",
        "outputId": "e0b930da-345f-4d43-f96e-b4c790a8aff9"
      },
      "execution_count": 8,
      "outputs": [
        {
          "output_type": "execute_result",
          "data": {
            "text/plain": [
              "'unacc'"
            ],
            "application/vnd.google.colaboratory.intrinsic+json": {
              "type": "string"
            }
          },
          "metadata": {},
          "execution_count": 8
        }
      ]
    },
    {
      "cell_type": "code",
      "source": [
        "modelo = ZeroR()\n",
        "modelo.fit(X, y)\n",
        "ypred = modelo.predict(X)\n",
        "sum(y==ypred)/len(y)"
      ],
      "metadata": {
        "colab": {
          "base_uri": "https://localhost:8080/"
        },
        "id": "J9tBeXvBx1Rl",
        "outputId": "2a0e95e9-16f9-402e-e534-62c63d1afa49"
      },
      "execution_count": 9,
      "outputs": [
        {
          "output_type": "execute_result",
          "data": {
            "text/plain": [
              "0.7002314814814815"
            ]
          },
          "metadata": {},
          "execution_count": 9
        }
      ]
    },
    {
      "cell_type": "code",
      "source": [
        "def impureza(y): #Gini\n",
        "  labels = list(set(y))\n",
        "  labels.sort()\n",
        "  probabilidades = np.zeros((len(labels),))\n",
        "  for i, k in enumerate(labels):\n",
        "    probabilidades[i] = sum(y==k)/len(y)\n",
        "  result = 1 - sum(probabilidades ** 2)\n",
        "  return result\n",
        "\n",
        "impureza(y[:])"
      ],
      "metadata": {
        "colab": {
          "base_uri": "https://localhost:8080/"
        },
        "id": "ip3ex20v1qmV",
        "outputId": "b0006139-22bb-4659-a076-9de5357ac2cf"
      },
      "execution_count": 18,
      "outputs": [
        {
          "output_type": "execute_result",
          "data": {
            "text/plain": [
              "0.457283763074417"
            ]
          },
          "metadata": {},
          "execution_count": 18
        }
      ]
    },
    {
      "cell_type": "code",
      "source": [
        "def impurezaValor(x, y, valor):\n",
        "  iguais = x==valor\n",
        "  impurezaIguais = impureza(y[iguais])\n",
        "  proporcaoIguais = sum(iguais)/len(y)\n",
        "  impurezaDiferentes = impureza(y[~iguais])\n",
        "  proporcaoDiferentes = sum(~iguais)/len(y)\n",
        "  impurezaTotal = proporcaoIguais*impurezaIguais + proporcaoDiferentes*impurezaDiferentes\n",
        "  return impurezaTotal\n",
        "\n",
        "impurezaValor(X[:,3], y, '2')"
      ],
      "metadata": {
        "colab": {
          "base_uri": "https://localhost:8080/"
        },
        "id": "cqV-Eg7G20Y7",
        "outputId": "ff03572b-793d-4783-fc5e-c39ba6a05cb7"
      },
      "execution_count": 21,
      "outputs": [
        {
          "output_type": "execute_result",
          "data": {
            "text/plain": [
              "0.38615712609310704"
            ]
          },
          "metadata": {},
          "execution_count": 21
        }
      ]
    },
    {
      "cell_type": "code",
      "source": [
        "def impurezaMinima(X, y):\n",
        "  impurezas = []\n",
        "  caracteristicasValores = []\n",
        "  for i in range(X.shape[1]):\n",
        "    valores = sorted(list(set(X[:,i])))\n",
        "    for valor in valores:\n",
        "      caracteristicasValores.append([i, valor])\n",
        "      impurezaValorCaracteristica = impurezaValor(X[:,i], y, valor)\n",
        "      impurezas.append(impurezaValorCaracteristica)\n",
        "  impurezas = np.array(impurezas)\n",
        "  menorImpureza = np.argmin(impurezas)\n",
        "  caracteristica, valor = caracteristicasValores[menorImpureza]\n",
        "  return impurezas[menorImpureza], caracteristica, valor\n",
        "\n",
        "impurezaMinima(X, y)"
      ],
      "metadata": {
        "colab": {
          "base_uri": "https://localhost:8080/"
        },
        "id": "7X8d7Zwg4IWN",
        "outputId": "7a30ede3-a9e8-4098-f7c5-d778df350e10"
      },
      "execution_count": 22,
      "outputs": [
        {
          "output_type": "execute_result",
          "data": {
            "text/plain": [
              "(0.38615712609310704, 3, '2')"
            ]
          },
          "metadata": {},
          "execution_count": 22
        }
      ]
    },
    {
      "cell_type": "code",
      "source": [
        "class Arvore(BaseEstimator, ClassifierMixin):\n",
        "  def fit(self, X, y):\n",
        "    self.impureza, self.caracteristica, self.valor = impurezaMinima(X, y)\n",
        "    iguais = X[:,self.caracteristica] == self.valor\n",
        "    # print(self.impureza, self.caracteristica, self.valor, sum(iguais), sum(~iguais))\n",
        "    if sum(iguais)>0 and sum(~iguais)>0:\n",
        "      self.iguais = Arvore()\n",
        "      self.iguais.fit(X[iguais,:], y[iguais])\n",
        "      self.diferentes = Arvore()\n",
        "      self.diferentes.fit(X[~iguais,:], y[~iguais])\n",
        "    else:\n",
        "      self.resposta = maisFrequente(y)\n",
        "    return self\n",
        "  def predict(self, X, y=None):\n",
        "    y = np.empty((X.shape[0]), dtype='<U5')\n",
        "    if hasattr(self, 'resposta'):\n",
        "      y[:] = self.resposta\n",
        "    else:\n",
        "      iguais = X[:,self.caracteristica] == self.valor\n",
        "      y[iguais] = self.iguais.predict(X[iguais,:])\n",
        "      y[~iguais] = self.diferentes.predict(X[~iguais,:])\n",
        "    return y\n",
        "\n",
        "modelo = Arvore()\n",
        "modelo.fit(X, y)\n",
        "ypred = modelo.predict(X)\n",
        "sum(y==ypred)/len(y)"
      ],
      "metadata": {
        "colab": {
          "base_uri": "https://localhost:8080/"
        },
        "id": "vjC6j3QHxR4s",
        "outputId": "14044be8-3a9b-4a9e-d776-70a68da0aed4"
      },
      "execution_count": 26,
      "outputs": [
        {
          "output_type": "execute_result",
          "data": {
            "text/plain": [
              "1.0"
            ]
          },
          "metadata": {},
          "execution_count": 26
        }
      ]
    },
    {
      "cell_type": "code",
      "source": [
        "scores = cross_validate(Arvore(), X, y)\n",
        "scores['test_score'], np.mean(scores['test_score'])"
      ],
      "metadata": {
        "colab": {
          "base_uri": "https://localhost:8080/"
        },
        "id": "iZVg23RL7EYV",
        "outputId": "b50ba70a-3b12-4a42-c087-18a4e621b35b"
      },
      "execution_count": 27,
      "outputs": [
        {
          "output_type": "execute_result",
          "data": {
            "text/plain": [
              "(array([0.62716763, 0.73121387, 0.75144509, 0.75362319, 0.8057971 ]),\n",
              " 0.7338493758900897)"
            ]
          },
          "metadata": {},
          "execution_count": 27
        }
      ]
    }
  ]
}